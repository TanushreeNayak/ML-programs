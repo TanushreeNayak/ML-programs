{
  "nbformat": 4,
  "nbformat_minor": 0,
  "metadata": {
    "colab": {
      "provenance": [],
      "authorship_tag": "ABX9TyOTAal5lTonUVKrX9CMlCzA",
      "include_colab_link": true
    },
    "kernelspec": {
      "name": "python3",
      "display_name": "Python 3"
    },
    "language_info": {
      "name": "python"
    }
  },
  "cells": [
    {
      "cell_type": "markdown",
      "metadata": {
        "id": "view-in-github",
        "colab_type": "text"
      },
      "source": [
        "<a href=\"https://colab.research.google.com/github/TanushreeNayak/ML-programs/blob/main/Candidate_Elimination_Algorithm.ipynb\" target=\"_parent\"><img src=\"https://colab.research.google.com/assets/colab-badge.svg\" alt=\"Open In Colab\"/></a>"
      ]
    },
    {
      "cell_type": "code",
      "execution_count": 1,
      "metadata": {
        "colab": {
          "base_uri": "https://localhost:8080/"
        },
        "id": "DKaynDhQ_UH2",
        "outputId": "823012e6-10b3-4d97-f4f5-211ea7cd1a09"
      },
      "outputs": [
        {
          "output_type": "stream",
          "name": "stdout",
          "text": [
            "Final Specific Hypothesis (S): ['?', 'Sunny', '?', 'Yes', '?', '?']\n",
            "Final General Hypothesis (G): [['?', 'Sunny', '?', '?', '?', '?'], ['?', '?', '?', 'Yes', '?', '?']]\n"
          ]
        }
      ],
      "source": [
        "import numpy as np\n",
        "import pandas as pd\n",
        "\n",
        "csv_file_data = pd.read_csv(\"/content/DataS.csv\")\n",
        "# print(csv_file_data)\n",
        "\n",
        "data = np.array(csv_file_data)\n",
        "# print(data)\n",
        "\n",
        "# Separate Features and Labels\n",
        "X = data[:,:-1] # Features\n",
        "Y = data[:,-1] # Labels\n",
        "# print(x)\n",
        "# print(y)\n",
        "\n",
        "# Initialize Most General and Most Specific Hypothesis\n",
        "num_features = X.shape[1]\n",
        "# print(num_fearures)\n",
        "S = ['Ø']*num_features # Most specific hypothesis\n",
        "G = [['?']*num_features] # Most general hypothesis\n",
        "# print(S)\n",
        "# print(G)\n",
        "\n",
        "# Candidate Elimination Algorithm\n",
        "for i, x in enumerate(X):\n",
        "    if Y[i] == 'Yes':  # Positive Example\n",
        "        for j in range(num_features):\n",
        "            if S[j] == 'Ø':  # Initialize S\n",
        "                S[j] = x[j]\n",
        "            elif S[j] != x[j]:  # Generalize S\n",
        "                S[j] = '?'\n",
        "        G = [g for g in G if all(g[j] == '?' or g[j] == x[j] for j in range(num_features))]\n",
        "\n",
        "    else:  # Negative Example\n",
        "        new_G = []\n",
        "        for g in G:\n",
        "            for j in range(num_features):\n",
        "                if g[j] == '?':\n",
        "                    g_new = g[:]\n",
        "                    g_new[j] = S[j]  # Specialize G\n",
        "                    new_G.append(g_new)\n",
        "        G = new_G\n",
        "        G = [g for g in G if not all(g[j] == '?' or g[j] == x[j] for j in range(num_features))]\n",
        "\n",
        "# Output Final S and G\n",
        "print(\"Final Specific Hypothesis (S):\", S)\n",
        "print(\"Final General Hypothesis (G):\", G)"
      ]
    }
  ]
}