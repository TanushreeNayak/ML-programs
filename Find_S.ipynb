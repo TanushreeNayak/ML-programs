{
  "nbformat": 4,
  "nbformat_minor": 0,
  "metadata": {
    "colab": {
      "provenance": [],
      "authorship_tag": "ABX9TyOsctORFPWCjJK0ICyVRypA",
      "include_colab_link": true
    },
    "kernelspec": {
      "name": "python3",
      "display_name": "Python 3"
    },
    "language_info": {
      "name": "python"
    }
  },
  "cells": [
    {
      "cell_type": "markdown",
      "metadata": {
        "id": "view-in-github",
        "colab_type": "text"
      },
      "source": [
        "<a href=\"https://colab.research.google.com/github/TanushreeNayak/ML-programs/blob/main/Find_S.ipynb\" target=\"_parent\"><img src=\"https://colab.research.google.com/assets/colab-badge.svg\" alt=\"Open In Colab\"/></a>"
      ]
    },
    {
      "cell_type": "code",
      "execution_count": 3,
      "metadata": {
        "id": "BY9sWRfk-bVl"
      },
      "outputs": [],
      "source": [
        "\n",
        "import numpy as np\n",
        "import pandas as pd\n",
        "\n",
        "csv_file_data = pd.read_csv('/content/DataS.csv')\n",
        "\n",
        "data = np.array(csv_file_data)\n",
        "\n",
        "def trainModel(trainingData):\n",
        "  n = len(trainingData[0]) - 1\n",
        "  specific_hypo = [\"&\"] * n\n",
        "  general_hypo = [\"?\"] * n\n",
        "\n",
        "  for instance in trainingData:\n",
        "    if instance[-1] == 'yes':\n",
        "      specific_hypo = instance[:-1]\n",
        "      print('specific_hypo : ',specific_hypo)\n",
        "      break\n",
        "\n",
        "  for instance in trainingData:\n",
        "    if instance[-1] == 'no':\n",
        "      for i in range(n):\n",
        "        if specific_hypo[i] != instance[i]:\n",
        "          specific_hypo[i] = '?'\n",
        "      print('Hypothesis : ',specific_hypo)\n",
        "\n",
        "      if(specific_hypo == general_hypo):\n",
        "        break\n",
        "\n",
        "trainModel(data)\n"
      ]
    }
  ]
}