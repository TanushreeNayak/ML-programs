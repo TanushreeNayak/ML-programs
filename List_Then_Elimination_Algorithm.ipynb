{
  "nbformat": 4,
  "nbformat_minor": 0,
  "metadata": {
    "colab": {
      "provenance": [],
      "authorship_tag": "ABX9TyPeuDsR055/s6tsxHXRzkJE",
      "include_colab_link": true
    },
    "kernelspec": {
      "name": "python3",
      "display_name": "Python 3"
    },
    "language_info": {
      "name": "python"
    }
  },
  "cells": [
    {
      "cell_type": "markdown",
      "metadata": {
        "id": "view-in-github",
        "colab_type": "text"
      },
      "source": [
        "<a href=\"https://colab.research.google.com/github/TanushreeNayak/ML-programs/blob/main/List_Then_Elimination_Algorithm.ipynb\" target=\"_parent\"><img src=\"https://colab.research.google.com/assets/colab-badge.svg\" alt=\"Open In Colab\"/></a>"
      ]
    },
    {
      "cell_type": "code",
      "execution_count": 1,
      "metadata": {
        "colab": {
          "base_uri": "https://localhost:8080/"
        },
        "id": "-cFbobePB42M",
        "outputId": "7beffa26-6e3d-48ac-8bcb-382c62020a4f"
      },
      "outputs": [
        {
          "output_type": "stream",
          "name": "stdout",
          "text": [
            "[('?', 'Sunny', '?', 'Yes', '?', '?'), ('?', 'Sunny', '?', '?', '?', '?'), ('?', '?', '?', 'Yes', '?', '?')]\n"
          ]
        }
      ],
      "source": [
        "import numpy as np\n",
        "import pandas as pd\n",
        "from itertools import product\n",
        "\n",
        "csv_file_data=pd.read_csv('/content/DataS.csv')\n",
        "#print(csv_file_data)\n",
        "\n",
        "def create_sementical_distinct_hypothesis(data):\n",
        "    # Extract the examples of the DataSet\n",
        "    examples=np.array(data)[:,:-1]\n",
        "    # print(examples)\n",
        "\n",
        "    number_of_features=len(examples[0])\n",
        "    #print(number_of_features)\n",
        "\n",
        "    # Transpose the examples so that it is easy to make the set of the values of feature\n",
        "    feature_transpose=np.transpose(examples)\n",
        "    # print(feature_transpose)\n",
        "\n",
        "    # Declare a 2D Array which store all the features set\n",
        "    feature=[[]]*number_of_features\n",
        "    # print(feature)\n",
        "\n",
        "    # Iterations which make the sets of features value and also convert them into the 2D Array\n",
        "    for i in range(len(feature_transpose)):\n",
        "        my_set=set()\n",
        "        for j in range(len(feature_transpose[0])):\n",
        "            my_set.add(feature_transpose[i][j])\n",
        "        # print(my_set)\n",
        "        feature[i]=list(my_set)\n",
        "    # print(feature)\n",
        "\n",
        "    # Append the general condition in all the feature vectors\n",
        "    for i in range(len(feature)):\n",
        "        feature[i].append('?')\n",
        "    # print(feature)\n",
        "\n",
        "    # Create the Sementical Distinct Hypothesis\n",
        "    sementical_distinct_hypothesis=list(product(*feature))\n",
        "    # print(sementical_distinct_hypothesis)\n",
        "    # print(len(sementical_distinct_hypothesis))\n",
        "\n",
        "    # Return the Sementical Distinct Hypothesis\n",
        "    return sementical_distinct_hypothesis\n",
        "\n",
        "def compare_feature_Vector(arr1,arr2):\n",
        "    # Check the corresponding feature value is acceptable or not\n",
        "    # if acceptable return True otherwise return False\n",
        "    length=len(arr1)\n",
        "    for i in range(length):\n",
        "        if arr1[i]==arr2[i]:\n",
        "            pass\n",
        "        elif arr1[i]=='?':\n",
        "            pass\n",
        "        else:\n",
        "            return False\n",
        "    return True\n",
        "\n",
        "def check_hypothesis(hypothesis,instance,target):\n",
        "    # Check Hypothesis is consistent or not\n",
        "    # If consistent return True otherwise return False\n",
        "    for i,val in enumerate(instance):\n",
        "        if compare_feature_Vector(hypothesis,val):\n",
        "            if target[i]=='Yes':\n",
        "                pass\n",
        "            else:\n",
        "                return False\n",
        "        else:\n",
        "            if target[i]=='No':\n",
        "                pass\n",
        "            else:\n",
        "                return False\n",
        "    return True\n",
        "\n",
        "def create_version_space(csv_file_data):\n",
        "    semantical_distinct=create_sementical_distinct_hypothesis(csv_file_data)\n",
        "\n",
        "    data=np.array(csv_file_data)[:,:-1]\n",
        "    # print(data)\n",
        "\n",
        "    target=np.array(csv_file_data)[:,-1]\n",
        "    # print(target)\n",
        "\n",
        "    # It appends all the consistent hypothesis to the Version Space\n",
        "    version_space=[]\n",
        "    for i in semantical_distinct:\n",
        "        if check_hypothesis(i,data,target):\n",
        "            version_space.append(i)\n",
        "    return version_space\n",
        "\n",
        "version_space=create_version_space(csv_file_data)\n",
        "print(version_space)"
      ]
    }
  ]
}