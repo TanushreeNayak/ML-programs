{
  "nbformat": 4,
  "nbformat_minor": 0,
  "metadata": {
    "colab": {
      "provenance": [],
      "authorship_tag": "ABX9TyM6JOwVfGsv8RdomlAdlqkw",
      "include_colab_link": true
    },
    "kernelspec": {
      "name": "python3",
      "display_name": "Python 3"
    },
    "language_info": {
      "name": "python"
    }
  },
  "cells": [
    {
      "cell_type": "markdown",
      "metadata": {
        "id": "view-in-github",
        "colab_type": "text"
      },
      "source": [
        "<a href=\"https://colab.research.google.com/github/TanushreeNayak/ML-programs/blob/main/Candidate_Elimination_Algorithm_version_2.ipynb\" target=\"_parent\"><img src=\"https://colab.research.google.com/assets/colab-badge.svg\" alt=\"Open In Colab\"/></a>"
      ]
    },
    {
      "cell_type": "code",
      "execution_count": 1,
      "metadata": {
        "id": "LSheNuZH_-l5",
        "outputId": "89cc5605-8c24-4a65-bfc2-debad7a0cb2d",
        "colab": {
          "base_uri": "https://localhost:8080/"
        }
      },
      "outputs": [
        {
          "output_type": "stream",
          "name": "stdout",
          "text": [
            "[] gen\n",
            "[] spe\n",
            "[] gen\n",
            "[] spe\n",
            "[] gen\n",
            "['Morning', 'Sunny', 'Warm', 'Yes', 'Mild', 'Strong'] spe\n",
            "[['Big', '?', '?', '?', '?', '?'], ['?', 'Blue', '?', '?', '?', '?'], ['?', '?', 'Circle', '?', '?', '?'], ['?', '?', '?', '?', '?', '?'], ['?', '?', '?', '?', '?', '?'], ['?', '?', '?', '?', '?', '?']] gen\n",
            "['Morning', 'Sunny', 'Warm', 'Yes', 'Mild', 'Strong'] spe\n",
            "[['?', '?', '?', '?', '?', '?'], ['?', '?', '?', '?', '?', '?'], ['?', '?', '?', '?', '?', '?']] gen\n",
            "['Morning', 'Sunny', '?', 'Yes', '?', '?'] spe\n",
            "['?', 'Sunny', '?', 'Yes', '?', '?']\n",
            "[['?', '?', '?', '?', '?', '?'], ['?', '?', '?', '?', '?', '?'], ['?', '?', '?', '?', '?', '?']]\n"
          ]
        }
      ],
      "source": [
        "import csv\n",
        "\n",
        "file = open('/content/DataS.csv')\n",
        "all_rows = csv.reader(file)\n",
        "\n",
        "attributes = [[\"Big\", \"Small\"], [\"Blue\", \"Red\"], [\"Circle\", \"Triangle\"]]\n",
        "# attributes = [[\"Sunny\", \"Rainy\"], [\"Warm\", \"Cold\"], [\"Normal\", \"High\"], [\"Strong\", \"Weak\"], [\"Warm\", \"Cold\"], [\"Same\", \"Change\"]]\n",
        "\n",
        "data = []\n",
        "for row in all_rows:\n",
        "    data.append(row)\n",
        "\n",
        "specific_hypothesis = []\n",
        "genral_hypothesis = []\n",
        "\n",
        "for instance_index, instance in enumerate(data):\n",
        "    print(genral_hypothesis, \"gen\")\n",
        "    print(specific_hypothesis, \"spe\")\n",
        "\n",
        "    if instance[-1]==\"Yes\":\n",
        "        pop_index=[]\n",
        "        new_genral_hypothesis=[]\n",
        "        for hypothesis_index, hypothesis in enumerate(genral_hypothesis):\n",
        "            for attribute_index, attribute in enumerate(hypothesis):\n",
        "\n",
        "                if genral_hypothesis[hypothesis_index][attribute_index] != \"?\" and genral_hypothesis[hypothesis_index][attribute_index] != instance[attribute_index] and hypothesis_index not in pop_index:\n",
        "                    pop_index.append(hypothesis_index)\n",
        "                    # print(genral_hypothesis.pop(hypothesis_index), \"pop\")\n",
        "\n",
        "        for hypo_indx in range(len(genral_hypothesis)):\n",
        "            if hypo_indx not in pop_index:\n",
        "                new_genral_hypothesis.append(genral_hypothesis[hypo_indx])\n",
        "\n",
        "        genral_hypothesis = new_genral_hypothesis\n",
        "\n",
        "        if specific_hypothesis:\n",
        "            for attribute_index, attribute in enumerate(specific_hypothesis):\n",
        "                if specific_hypothesis[attribute_index] != instance[attribute_index]:\n",
        "                     specific_hypothesis[attribute_index] = '?'\n",
        "        else:\n",
        "            specific_hypothesis = instance[:-1]\n",
        "\n",
        "    elif instance[-1]==\"No\":\n",
        "        if genral_hypothesis:\n",
        "            opp_instance = []\n",
        "            for attribute_index, attribute in enumerate(instance):\n",
        "                if attribute_index<len(data[0])-1:\n",
        "\n",
        "                    if instance[attribute_index] == attributes[attribute_index][0]:\n",
        "                        opp_instance.append(attributes[attribute_index][1])\n",
        "                    else:\n",
        "                        opp_instance.append(attributes[attribute_index][0])\n",
        "\n",
        "            new_genhypo=[]\n",
        "            for hypothesis_index, hypothesis in enumerate(genral_hypothesis):\n",
        "                for attribute_index, attribute in enumerate(hypothesis):\n",
        "\n",
        "                    if genral_hypothesis[hypothesis_index][attribute_index] != \"?\" and genral_hypothesis[hypothesis_index][attribute_index] != opp_instance[attribute_index]:\n",
        "                        temp = genral_hypothesis.pop(hypothesis_index)\n",
        "                        # pop_index.append(hypothesis_index)\n",
        "\n",
        "                        for element_index, element in enumerate(opp_instance):\n",
        "                            temp_hypo=[\"?\"]*len(temp)\n",
        "                            if element_index == attribute_index:\n",
        "                                pass\n",
        "                            else:\n",
        "                                temp_hypo[attribute_index] = temp[attribute_index]\n",
        "                                temp_hypo[element_index] = element\n",
        "                                new_genhypo.append(temp_hypo)\n",
        "\n",
        "            if new_genhypo:\n",
        "                for hypo in new_genhypo:\n",
        "                    if hypo not in genral_hypothesis:\n",
        "                        genral_hypothesis.append(hypo)\n",
        "\n",
        "        else:\n",
        "            for attribute_index in range(len(data[0])-1):\n",
        "\n",
        "                temp = [\"?\"]*(len(data[0])-1)\n",
        "\n",
        "                if attribute_index < len(attributes):\n",
        "                    if instance[attribute_index] == attributes[attribute_index][0]:\n",
        "                        temp[attribute_index] = attributes[attribute_index][1]\n",
        "                    else:\n",
        "                        temp[attribute_index] = attributes[attribute_index][0]\n",
        "\n",
        "                genral_hypothesis.append(temp)\n",
        "\n",
        "    else:\n",
        "        pass\n",
        "\n",
        "print(specific_hypothesis)\n",
        "print(genral_hypothesis)"
      ]
    }
  ]
}